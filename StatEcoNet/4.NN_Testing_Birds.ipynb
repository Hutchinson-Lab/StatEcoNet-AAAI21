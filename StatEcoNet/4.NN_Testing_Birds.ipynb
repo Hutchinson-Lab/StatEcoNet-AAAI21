{
 "cells": [
  {
   "cell_type": "code",
   "execution_count": 1,
   "metadata": {},
   "outputs": [
    {
     "name": "stdout",
     "output_type": "stream",
     "text": [
      "importing Jupyter notebook from /scratch/Eugene/codes/grt_hist/StatEcoNet/StatEcoNet/base/datasets.ipynb\n",
      "importing Jupyter notebook from /scratch/Eugene/codes/grt_hist/StatEcoNet/StatEcoNet/base/train_model_birds.ipynb\n",
      "importing Jupyter notebook from /scratch/Eugene/codes/grt_hist/StatEcoNet/StatEcoNet/base/models.ipynb\n"
     ]
    }
   ],
   "source": [
    "import import_ipynb\n",
    "from base.datasets import load_real_path, load_real_data, real_data_convert\n",
    "from base.train_model_birds import train_model, test_model\n",
    "\n",
    "import os\n",
    "import time\n",
    "import pandas as pd\n",
    "import random\n",
    "import torch"
   ]
  },
  {
   "cell_type": "markdown",
   "metadata": {},
   "source": [
    "# Define experiment setup"
   ]
  },
  {
   "cell_type": "code",
   "execution_count": 2,
   "metadata": {},
   "outputs": [],
   "source": [
    "# Define the dataset\n",
    "species_list = [\n",
    "                #\"Eurasian Collared-Dove\",\n",
    "                #\"Common Yellowthroat\",\n",
    "                \"Pacific Wren\",\n",
    "                #\"Song Sparrow\",\n",
    "                #\"Western Meadowlark\"\n",
    "                ]\n",
    "fold_list = [1] # 1, 2, or 3\n",
    "\n",
    "# Define the model\n",
    "model_list = [2] # 0:OD-LR, 1:OD-1NN, 2:StatEcoNet"
   ]
  },
  {
   "cell_type": "code",
   "execution_count": 3,
   "metadata": {},
   "outputs": [],
   "source": [
    "# Other parameters\n",
    "max_iter = 1000\n",
    "repeat = 1\n",
    "save_flag = True"
   ]
  },
  {
   "cell_type": "code",
   "execution_count": 4,
   "metadata": {},
   "outputs": [],
   "source": [
    "# Optimal hyper-parameters\n",
    "opts = pd.read_csv(\"opt/opt_bird_NN.csv\")\n",
    "\n",
    "# Set the save path\n",
    "if not os.path.isdir(\"output/\"):\n",
    "    os.mkdir(\"output/\")\n",
    "if not os.path.isdir(\"output/prediction/\"):\n",
    "    os.mkdir(\"output/prediction/\")\n",
    "save_base_path = \"output/prediction/birds/\"\n",
    "if not os.path.isdir(save_base_path):\n",
    "    os.mkdir(save_base_path)\n",
    "test_file = \"output/NN_bird_test.csv\""
   ]
  },
  {
   "cell_type": "markdown",
   "metadata": {},
   "source": [
    "# Train/evalute the model"
   ]
  },
  {
   "cell_type": "code",
   "execution_count": 5,
   "metadata": {
    "scrolled": false
   },
   "outputs": [
    {
     "name": "stdout",
     "output_type": "stream",
     "text": [
      "data path: ../data/OR2020/Pacific Wren/\n",
      "species Pacific Wren test fold 1 model 2\n",
      "( 1 / 1 )\n"
     ]
    },
    {
     "data": {
      "application/vnd.jupyter.widget-view+json": {
       "model_id": "6ad47cda3dac48d495d175b6d9f77a2f",
       "version_major": 2,
       "version_minor": 0
      },
      "text/plain": [
       "HBox(children=(FloatProgress(value=0.0, max=1000.0), HTML(value='')))"
      ]
     },
     "metadata": {},
     "output_type": "display_data"
    },
    {
     "name": "stdout",
     "output_type": "stream",
     "text": [
      "No more improvement. This is the early stop point.\n",
      "\n",
      "The model predictions are saved at output/prediction/birds/Pacific Wren_f1_m2_w0.01_t1\n",
      "Test evaluation metrics are saved at output/NN_bird_test.csv\n",
      "28.312368869781494\n"
     ]
    }
   ],
   "source": [
    "NN_record = pd.DataFrame(columns=['species','fold','nSites','nVisits',\\\n",
    "                                  'model.id','trial','best.iter',\\\n",
    "                                  'opt.learning.time','test.auroc',\\\n",
    "                                  'test.auprc'])\n",
    "\n",
    "i = 0\n",
    "start_init = time.time()\n",
    "for species_name in species_list:\n",
    "    dir_path = load_real_path(species_name)\n",
    "    for fold in fold_list:\n",
    "        # Load data\n",
    "        x_dim, w_dim, k,\\\n",
    "        train_occCovars, train_detCovars, train_Y,\\\n",
    "        valid_occCovars, valid_detCovars, valid_Y,\\\n",
    "        test_occCovars, test_detCovars, test_Y = \\\n",
    "        load_real_data(dir_path, fold)\n",
    "\n",
    "        x_train, w_train, y_train, x_valid, w_valid, y_valid,\\\n",
    "        x_test, w_test, y_test = \\\n",
    "        real_data_convert(train_occCovars, train_detCovars, train_Y,\\\n",
    "                          valid_occCovars, valid_detCovars, valid_Y,\\\n",
    "                          test_occCovars, test_detCovars, test_Y)\n",
    "\n",
    "        nSites = x_train.shape[0]\n",
    "        data_size = str(nSites)+\"x\"+str(k)\n",
    "\n",
    "        for model_id in model_list:\n",
    "            print(\"species\", species_name, \"test fold\", fold, \\\n",
    "                  \"model\", model_id)\n",
    "            opt = opts[(opts.speices==species_name) & (opts.fold==fold) & \\\n",
    "                       (opts.model_id==model_id)]\n",
    "\n",
    "            lr = opt['lr'].item()\n",
    "            bs = opt['batch_size'].item()\n",
    "            if bs==0: bs = nSites\n",
    "            else: bs = int(bs)\n",
    "            nN = int(opt['nNeurons'].item())\n",
    "            nL = int(opt['nLayers'].item())\n",
    "            mixed = opt['mixed_weight'].item()\n",
    "\n",
    "            for trial in list(range(1, repeat+1)):\n",
    "                my_seed = random.randint(1, 1000)\n",
    "                print(\"(\", trial, \"/\", repeat, \")\")\n",
    "\n",
    "                # Find the optimal iteration    \n",
    "                df_train, df_valid, \\\n",
    "                best_iter, best_model, opt_learing_time = \\\n",
    "                train_model(my_seed, model_id, nL, nN, lr, \"train\", \\\n",
    "                            x_dim, w_dim, k, max_iter, mixed, \\\n",
    "                            x_train, w_train, y_train, x_valid, \\\n",
    "                            w_valid, y_valid, bs)\n",
    "                df_valid['dataset'] = 'valid'\n",
    "\n",
    "                # Test the trained model\n",
    "                psi_hat, p_hat, y_hat, auroc, auprc = \\\n",
    "                                test_model(best_model, \\\n",
    "                                           x_test, w_test, y_test, k)\n",
    "\n",
    "                # Save prediction outcomes\n",
    "                if save_flag:                               \n",
    "                    save_path = save_base_path + species_name + \\\n",
    "                                \"_f\" + str(fold) + \"_m\" + str(model_id) \\\n",
    "                                + \"_w\" + str(mixed)  + \"_t\" + str(trial)\n",
    "                    print(\"The model predictions are saved at\", save_path)\n",
    "\n",
    "                    pd.DataFrame(psi_hat.numpy().flatten()).to_csv( \\\n",
    "                                 save_path+'_psi_hat.csv', header=False, index=False)\n",
    "                    pd.DataFrame(p_hat.numpy().flatten()).to_csv( \\\n",
    "                                 save_path+'_p_hat.csv', header=False, index=False)\n",
    "                    pd.DataFrame(y_hat).to_csv( \\\n",
    "                                 save_path+'_y_hat.csv', header=False, index=False)                      \n",
    "                    torch.save(best_model.state_dict(), \\\n",
    "                               save_path + '_final_model.pt')\n",
    "\n",
    "                    record = [species_name, fold, nSites, k, model_id,\\\n",
    "                              trial, best_iter, opt_learing_time]\n",
    "                    record.extend([auroc, auprc])\n",
    "                    NN_record.loc[i] = record\n",
    "                    NN_record.to_csv(test_file, index=False)\n",
    "\n",
    "                i = i + 1\n",
    "\n",
    "print(\"Test evaluation metrics are saved at\", test_file)\n",
    "end = time.time()\n",
    "elapse = end - start_init\n",
    "print(elapse)"
   ]
  },
  {
   "cell_type": "code",
   "execution_count": null,
   "metadata": {},
   "outputs": [],
   "source": []
  }
 ],
 "metadata": {
  "kernelspec": {
   "display_name": "Python 3",
   "language": "python",
   "name": "python3"
  },
  "language_info": {
   "codemirror_mode": {
    "name": "ipython",
    "version": 3
   },
   "file_extension": ".py",
   "mimetype": "text/x-python",
   "name": "python",
   "nbconvert_exporter": "python",
   "pygments_lexer": "ipython3",
   "version": "3.8.5"
  }
 },
 "nbformat": 4,
 "nbformat_minor": 2
}
