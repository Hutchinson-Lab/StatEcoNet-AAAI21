{
 "cells": [
  {
   "cell_type": "code",
   "execution_count": 1,
   "metadata": {},
   "outputs": [
    {
     "name": "stdout",
     "output_type": "stream",
     "text": [
      "importing Jupyter notebook from /scratch/Eugene/codes/grt_hist/tmp/StatEcoNet-AAAI21/StatEcoNet/base/models.ipynb\n"
     ]
    }
   ],
   "source": [
    "import pandas as pd\n",
    "import torch.optim as optim\n",
    "import matplotlib.pyplot as plt\n",
    "import torch\n",
    "from torch.utils.data import TensorDataset, DataLoader\n",
    "from tqdm.notebook import tqdm\n",
    "\n",
    "import import_ipynb\n",
    "from base.models import StatEcoNet_H1"
   ]
  },
  {
   "cell_type": "markdown",
   "metadata": {},
   "source": [
    "# Load data files"
   ]
  },
  {
   "cell_type": "code",
   "execution_count": 2,
   "metadata": {},
   "outputs": [],
   "source": [
    "# Define the dataset\n",
    "df_occ = pd.read_csv(\"../data/Synthetic/multi_ks/df_occ.csv\")\n",
    "df_det = pd.read_csv(\"../data/Synthetic/multi_ks/df_det.csv\")"
   ]
  },
  {
   "cell_type": "markdown",
   "metadata": {},
   "source": [
    "# Train/evalute the model"
   ]
  },
  {
   "cell_type": "code",
   "execution_count": 6,
   "metadata": {},
   "outputs": [],
   "source": [
    "x_dim = 10\n",
    "w_dim = 10\n",
    "\n",
    "lr = 0.001\n",
    "bs = 100\n",
    "nN = 8\n",
    "n_epoch = 1000\n",
    "\n",
    "# StatEcoNet with one hidden layer\n",
    "model = StatEcoNet_H1(x_dim, w_dim, nN)\n",
    "\n",
    "# For mini batches\n",
    "params = {'batch_size': bs,\n",
    "          'shuffle': True,\n",
    "          'num_workers': 1}\n",
    "\n",
    "dataset = TensorDataset(torch.tensor(np.array(df_occ.site_index)))  \n",
    "dataloader = DataLoader(dataset, **params)\n",
    "\n",
    "# Set an optimizer\n",
    "optimizer = optim.Adam(model.parameters(), lr=lr)"
   ]
  },
  {
   "cell_type": "code",
   "execution_count": 7,
   "metadata": {},
   "outputs": [],
   "source": [
    "def my_loss_function_multi_ks(A, B):  \n",
    "    log_A_plus_B = torch.log(torch.stack(A) + torch.stack(A))\n",
    "    if torch.sum(torch.isinf(log_A_plus_B)):\n",
    "        log_A_plus_B[(log_A_plus_B<=0)] = torch.log(torch.tensor(1e-45))\n",
    "    loss = -torch.mean(log_A_plus_B)\n",
    "    return loss"
   ]
  },
  {
   "cell_type": "code",
   "execution_count": 8,
   "metadata": {
    "scrolled": false
   },
   "outputs": [
    {
     "data": {
      "application/vnd.jupyter.widget-view+json": {
       "model_id": "c640b65bbe5e434baaad9f9351b06979",
       "version_major": 2,
       "version_minor": 0
      },
      "text/plain": [
       "HBox(children=(FloatProgress(value=0.0, max=1000.0), HTML(value='')))"
      ]
     },
     "metadata": {},
     "output_type": "display_data"
    },
    {
     "name": "stdout",
     "output_type": "stream",
     "text": [
      "\n"
     ]
    },
    {
     "data": {
      "text/plain": [
       "Text(0.5, 1.0, 'Training Loss')"
      ]
     },
     "execution_count": 8,
     "metadata": {},
     "output_type": "execute_result"
    },
    {
     "data": {
      "image/png": "[encoded data removed]",
      "text/plain": [
       "<Figure size 432x288 with 1 Axes>"
      ]
     },
     "metadata": {
      "needs_background": "light"
     },
     "output_type": "display_data"
    }
   ],
   "source": [
    "train_loss = []\n",
    "for i in tqdm(range(n_epoch)):        \n",
    "    model.train()\n",
    "    optimizer.zero_grad()\n",
    "    for i_batch, data in enumerate(dataloader):                         \n",
    "        A = [] # the first component in the log-likelihood function\n",
    "        B = [] # the second component in the log-likelihood function        \n",
    "        \n",
    "        # Load a minibatch \n",
    "        for i in data[0]: # for each survey \n",
    "            # 1. obtain the corresponding site features, x\n",
    "            x = torch.tensor(np.array(df_occ.iloc[int(i)][4:]), dtype=torch.float32).reshape(1, x_dim)\n",
    "            # 2. obtain all surveys of the site\n",
    "            surveys = df_det[df_det['site_index']==int(i)]            \n",
    "            # 3. obtain the survey features, w\n",
    "            w = torch.tensor(np.array(surveys)[:, 4:], dtype=torch.float32).reshape(1, len(surveys), w_dim)             \n",
    "            # 4. obtain the observation states of the surveys\n",
    "            surveys_y = torch.tensor(np.array(surveys.observed), dtype=torch.float32)            \n",
    "            # 5. indication of whether all observations were zero at the site\n",
    "            maybe_absent = not sum(surveys['observed'])\n",
    "            \n",
    "            # Train the model with the site (x) and survey (w) features\n",
    "            psi_hat_train, p_hat_train = model(x, w)\n",
    "            \n",
    "            # Compute the log-likelihood function\n",
    "            likelihood = psi_hat_train * \\\n",
    "                         torch.prod(\\\n",
    "                            torch.distributions.bernoulli.Bernoulli(\\\n",
    "                            probs=p_hat_train.reshape(1,len(surveys))).log_prob(surveys_y).exp(), 1)\n",
    "            A.append(likelihood[0][0]) \n",
    "            B.append(((1-psi_hat_train) * maybe_absent)[0][0])\n",
    "            \n",
    "        # Compute training loss\n",
    "        loss = my_loss_function_multi_ks(A, B)     \n",
    "        train_loss.append(loss.item())\n",
    "        loss.backward()\n",
    "        optimizer.step()\n",
    "\n",
    "plt.plot(train_loss)\n",
    "plt.title(\"Training Loss\", fontsize = 20)"
   ]
  }
 ],
 "metadata": {
  "kernelspec": {
   "display_name": "Python 3",
   "language": "python",
   "name": "python3"
  },
  "language_info": {
   "codemirror_mode": {
    "name": "ipython",
    "version": 3
   },
   "file_extension": ".py",
   "mimetype": "text/x-python",
   "name": "python",
   "nbconvert_exporter": "python",
   "pygments_lexer": "ipython3",
   "version": "3.8.5"
  }
 },
 "nbformat": 4,
 "nbformat_minor": 2
}
